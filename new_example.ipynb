{
 "cells": [
  {
   "cell_type": "code",
   "execution_count": 1,
   "metadata": {},
   "outputs": [],
   "source": [
    "\n",
    "import pandas as pd\n",
    "import numpy as np\n",
    "import warnings\n",
    "warnings.filterwarnings('ignore')\n",
    "\n",
    "from core.finall_forecast import Forecaster\n",
    "from dateutil.relativedelta import relativedelta\n",
    "import datetime\n",
    "from tqdm.auto import tqdm\n",
    "\n",
    "import pyodbc\n",
    "import pandas as pd\n",
    "import numpy as np\n",
    "from tqdm.auto import tqdm\n",
    "import warnings; warnings.simplefilter('ignore')\n",
    "\n",
    "from multiprocessing.pool import ThreadPool"
   ]
  },
  {
   "cell_type": "code",
   "execution_count": 7,
   "metadata": {},
   "outputs": [],
   "source": [
    "def run_model(name_:str):\n",
    "    forecast_2025 = Forecaster(\n",
    "        data=df.loc[df['Project_Name']==name_].sort_values('Period')['TO_1'].to_numpy(), \n",
    "        data_index=df.loc[df['Project_Name']==name_][['TO_1', 'Period']].groupby('Period').sum().index.astype('datetime64[ns]'),\n",
    "        project_id=df.loc[df['Project_Name']==name_]['Project_ID'].iloc[-1],\n",
    "        project_name=name_,\n",
    "        n_trials=20)\n",
    "    pred = forecast_2025.predict(12)\n",
    "    \n",
    "    return pred"
   ]
  },
  {
   "cell_type": "code",
   "execution_count": null,
   "metadata": {},
   "outputs": [],
   "source": [
    "df_arr = []\n",
    "\n",
    "for indx_ in tqdm([]):\n",
    "    print(indx_)\n",
    "    forecast_2025 = Forecaster(\n",
    "        data=df.loc[df['Project_Name']==indx_].sort_values('Period')['TO_1'].to_numpy(), \n",
    "        data_index=df.loc[df['Project_Name']==indx_][['TO_1', 'Period']].groupby('Period').sum().index.astype('datetime64[ns]'),\n",
    "        project_id=df.loc[df['Project_Name']==indx_]['Project_ID'].iloc[-1],\n",
    "        project_name=indx_,\n",
    "        n_trials=50)\n",
    "\n",
    "    pred = forecast_2025.predict(12) \n",
    "    df_arr.append(pred)\n",
    "    "
   ]
  }
 ],
 "metadata": {
  "kernelspec": {
   "display_name": "Python 3",
   "language": "python",
   "name": "python3"
  },
  "language_info": {
   "codemirror_mode": {
    "name": "ipython",
    "version": 3
   },
   "file_extension": ".py",
   "mimetype": "text/x-python",
   "name": "python",
   "nbconvert_exporter": "python",
   "pygments_lexer": "ipython3",
   "version": "3.12.6"
  }
 },
 "nbformat": 4,
 "nbformat_minor": 2
}
